{
  "nbformat": 4,
  "nbformat_minor": 0,
  "metadata": {
    "colab": {
      "provenance": [],
      "authorship_tag": "ABX9TyOyfORzVnqCqNs5V4AH+ZDu",
      "include_colab_link": true
    },
    "kernelspec": {
      "name": "python3",
      "display_name": "Python 3"
    },
    "language_info": {
      "name": "python"
    }
  },
  "cells": [
    {
      "cell_type": "markdown",
      "metadata": {
        "id": "view-in-github",
        "colab_type": "text"
      },
      "source": [
        "<a href=\"https://colab.research.google.com/github/Akshayakrishna262/mlapplications/blob/main/Lists.ipynb\" target=\"_parent\"><img src=\"https://colab.research.google.com/assets/colab-badge.svg\" alt=\"Open In Colab\"/></a>"
      ]
    },
    {
      "cell_type": "code",
      "execution_count": 1,
      "metadata": {
        "colab": {
          "base_uri": "https://localhost:8080/"
        },
        "id": "ZkUJ-VZYI-2V",
        "outputId": "40f6266d-a3f7-42db-be09-f3930caff37e"
      },
      "outputs": [
        {
          "output_type": "stream",
          "name": "stdout",
          "text": [
            "{'screen_time': [2, 4, 6], 'sleep_hours': [3, 7, 8], 'stu_name': ['John', 'sathya', 'haswika']}\n",
            "   screen_time  sleep_hours stu_name\n",
            "0            2            3     John\n",
            "1            4            7   sathya\n",
            "2            6            8  haswika\n"
          ]
        }
      ],
      "source": [
        "import pandas as pd\n",
        "screen_time =[2,4,6]\n",
        "sleep_hours = [3,7,8]\n",
        "stu_name =[\"John\",\"sathya\",\"haswika\"]\n",
        "dict1 = {\n",
        "    \"screen_time\":screen_time,\n",
        "    \"sleep_hours\":sleep_hours,\n",
        "    \"stu_name\":stu_name\n",
        "}\n",
        "print(dict1)\n",
        "df = pd.DataFrame(dict1)\n",
        "print(df)"
      ]
    },
    {
      "cell_type": "code",
      "source": [
        "#list = [1,2,3,4,5]\n",
        "res = [i for i in range(1,20)]\n",
        "print(res)\n"
      ],
      "metadata": {
        "colab": {
          "base_uri": "https://localhost:8080/"
        },
        "id": "2A8xxvqlJIDa",
        "outputId": "9414afdd-ffcc-49ae-bc55-7fa7939d76fd"
      },
      "execution_count": 2,
      "outputs": [
        {
          "output_type": "stream",
          "name": "stdout",
          "text": [
            "[1, 2, 3, 4, 5, 6, 7, 8, 9, 10, 11, 12, 13, 14, 15, 16, 17, 18, 19]\n"
          ]
        }
      ]
    },
    {
      "cell_type": "code",
      "source": [
        "#list comprehension\n",
        "list = [1,2,3,4,5,6,7,8,9]\n",
        "res= [i for i in list if i % 2==0]\n",
        "print(\"even numbers\",res)"
      ],
      "metadata": {
        "colab": {
          "base_uri": "https://localhost:8080/"
        },
        "id": "gSX0ZGFoJKBG",
        "outputId": "6aec2ede-ee61-4db0-ae90-dbf0d2adab07"
      },
      "execution_count": 3,
      "outputs": [
        {
          "output_type": "stream",
          "name": "stdout",
          "text": [
            "even numbers [2, 4, 6, 8]\n"
          ]
        }
      ]
    },
    {
      "cell_type": "code",
      "source": [
        "words = [\"LOWER\",\"W\",\"PYTHON\"]\n",
        "lower = [i.lower() for i in words]\n",
        "print(lower)"
      ],
      "metadata": {
        "colab": {
          "base_uri": "https://localhost:8080/"
        },
        "id": "bxQnivi3JL2p",
        "outputId": "63e19b60-cbd8-4f8f-bc0d-1c96c2ac2c3b"
      },
      "execution_count": 4,
      "outputs": [
        {
          "output_type": "stream",
          "name": "stdout",
          "text": [
            "['lower', 'w', 'python']\n"
          ]
        }
      ]
    },
    {
      "cell_type": "code",
      "source": [
        "keys = [\"name\",\"age\",\"city\"]\n",
        "values = [\"jas\",\"19\",\"sitzerland\"]\n",
        "#list = [i for i in list]\n",
        "dictionary = {k:v for k,v in zip(keys,values)}\n",
        "print(dictionary)"
      ],
      "metadata": {
        "colab": {
          "base_uri": "https://localhost:8080/"
        },
        "id": "XGtloc-LJNgP",
        "outputId": "c809f133-e844-4ab4-e16c-20fc427466c8"
      },
      "execution_count": 5,
      "outputs": [
        {
          "output_type": "stream",
          "name": "stdout",
          "text": [
            "{'name': 'jas', 'age': '19', 'city': 'sitzerland'}\n"
          ]
        }
      ]
    },
    {
      "cell_type": "code",
      "source": [
        "import math\n",
        "numbers = [1,4,9,16,25]\n",
        "sq = tuple(math.sqrt(i) for i in numbers)\n",
        "print(sq)\n",
        "#square_roots = tuple(math.sqrt(num) for num in numbers)\n",
        "#print(square_roots)"
      ],
      "metadata": {
        "colab": {
          "base_uri": "https://localhost:8080/"
        },
        "id": "lhlqHFWNJPzy",
        "outputId": "7626241e-d668-4d76-9857-e902171f22e7"
      },
      "execution_count": 6,
      "outputs": [
        {
          "output_type": "stream",
          "name": "stdout",
          "text": [
            "(1.0, 2.0, 3.0, 4.0, 5.0)\n"
          ]
        }
      ]
    },
    {
      "cell_type": "code",
      "source": [
        "products = [\n",
        "    {\"name\":\"laptop\",\"price\":1000},\n",
        "    {\"name\":\"Mobile\",\"price\":500},\n",
        "    {\"name\":\"Tablet\",\"price\":300}\n",
        "]\n",
        "affordable_products = [product for product in products if product[\"price\"]<500]\n",
        "print(affordable_products)"
      ],
      "metadata": {
        "colab": {
          "base_uri": "https://localhost:8080/"
        },
        "id": "M1W5ouMBJRf8",
        "outputId": "97a6d15f-fd64-4a5c-d968-2450dfdc2e01"
      },
      "execution_count": 7,
      "outputs": [
        {
          "output_type": "stream",
          "name": "stdout",
          "text": [
            "[{'name': 'Tablet', 'price': 300}]\n"
          ]
        }
      ]
    }
  ]
}