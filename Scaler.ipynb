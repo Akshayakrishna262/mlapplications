{
  "nbformat": 4,
  "nbformat_minor": 0,
  "metadata": {
    "colab": {
      "provenance": [],
      "authorship_tag": "ABX9TyP5wIr8sRXLOOnJKeOfsowk",
      "include_colab_link": true
    },
    "kernelspec": {
      "name": "python3",
      "display_name": "Python 3"
    },
    "language_info": {
      "name": "python"
    }
  },
  "cells": [
    {
      "cell_type": "markdown",
      "metadata": {
        "id": "view-in-github",
        "colab_type": "text"
      },
      "source": [
        "<a href=\"https://colab.research.google.com/github/Akshayakrishna262/mlapplications/blob/main/Scaler.ipynb\" target=\"_parent\"><img src=\"https://colab.research.google.com/assets/colab-badge.svg\" alt=\"Open In Colab\"/></a>"
      ]
    },
    {
      "cell_type": "code",
      "source": [
        "import pandas as pd\n",
        "from sklearn.preprocessing import MinMaxScaler\n",
        "\n",
        "data = {\n",
        "    'Age': [25, 30, 35, 40, 45],\n",
        "    'Height': [0.00, 0.25, 0.30, 0.40, 0.50],  # Fixed height values\n",
        "    'Weight': [50, 60, 70, 80, 90]\n",
        "}\n",
        "\n",
        "df = pd.DataFrame(data)\n",
        "print(\"Original DataFrame:\")\n",
        "print(df)\n",
        "scaler = MinMaxScaler()\n",
        "\n",
        "# Normalize the data\n",
        "normalized_data = scaler.fit_transform(df)\n",
        "normalized_df = pd.DataFrame(normalized_data, columns=df.columns)\n",
        "\n",
        "print(normalized_df)\n"
      ],
      "metadata": {
        "colab": {
          "base_uri": "https://localhost:8080/"
        },
        "id": "MhOy2lzbSZHE",
        "outputId": "0c7fc494-b0c4-4784-af5b-88e93ac458ac"
      },
      "execution_count": 59,
      "outputs": [
        {
          "output_type": "stream",
          "name": "stdout",
          "text": [
            "Original DataFrame:\n",
            "   Age  Height  Weight\n",
            "0   25    0.00      50\n",
            "1   30    0.25      60\n",
            "2   35    0.30      70\n",
            "3   40    0.40      80\n",
            "4   45    0.50      90\n",
            "    Age  Height  Weight\n",
            "0  0.00     0.0    0.00\n",
            "1  0.25     0.5    0.25\n",
            "2  0.50     0.6    0.50\n",
            "3  0.75     0.8    0.75\n",
            "4  1.00     1.0    1.00\n"
          ]
        }
      ]
    },
    {
      "cell_type": "code",
      "source": [
        "import pandas as pd\n",
        "from sklearn.preprocessing import StandardScaler\n",
        "\n",
        "data = {\n",
        "    'Age': [25, 30, 35, 40, 45],\n",
        "    'Height': [0.00, 0.25, 0.30, 0.40, 0.50],  # Fixed height values\n",
        "    'Weight': [50, 60, 70, 80, 90]\n",
        "}\n",
        "\n",
        "df = pd.DataFrame(data)\n",
        "print(\"Original DataFrame:\")\n",
        "print(df)\n",
        "scaler = StandardScaler()\n",
        "\n",
        "# Normalize the data\n",
        "normalized_data = scaler.fit_transform(df)\n",
        "normalized_df = pd.DataFrame(normalized_data, columns=df.columns)\n",
        "\n",
        "print(normalized_df)\n"
      ],
      "metadata": {
        "colab": {
          "base_uri": "https://localhost:8080/"
        },
        "id": "NdiTYaCxSb-I",
        "outputId": "2c1c4aef-d116-432f-ed30-667fad007b47"
      },
      "execution_count": 60,
      "outputs": [
        {
          "output_type": "stream",
          "name": "stdout",
          "text": [
            "Original DataFrame:\n",
            "   Age  Height  Weight\n",
            "0   25    0.00      50\n",
            "1   30    0.25      60\n",
            "2   35    0.30      70\n",
            "3   40    0.40      80\n",
            "4   45    0.50      90\n",
            "        Age    Height    Weight\n",
            "0 -1.414214 -1.720833 -1.414214\n",
            "1 -0.707107 -0.237356 -0.707107\n",
            "2  0.000000  0.059339  0.000000\n",
            "3  0.707107  0.652730  0.707107\n",
            "4  1.414214  1.246121  1.414214\n"
          ]
        }
      ]
    },
    {
      "cell_type": "code",
      "source": [],
      "metadata": {
        "id": "Mz9SLAMkSeiv"
      },
      "execution_count": null,
      "outputs": []
    }
  ]
}