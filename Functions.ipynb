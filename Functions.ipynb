{
  "nbformat": 4,
  "nbformat_minor": 0,
  "metadata": {
    "colab": {
      "provenance": [],
      "authorship_tag": "ABX9TyO6tOeCHTW3JCyYlhZDVt+H",
      "include_colab_link": true
    },
    "kernelspec": {
      "name": "python3",
      "display_name": "Python 3"
    },
    "language_info": {
      "name": "python"
    }
  },
  "cells": [
    {
      "cell_type": "markdown",
      "metadata": {
        "id": "view-in-github",
        "colab_type": "text"
      },
      "source": [
        "<a href=\"https://colab.research.google.com/github/Akshayakrishna262/mlapplications/blob/main/Functions.ipynb\" target=\"_parent\"><img src=\"https://colab.research.google.com/assets/colab-badge.svg\" alt=\"Open In Colab\"/></a>"
      ]
    },
    {
      "cell_type": "code",
      "source": [
        "def add(a,b):\n",
        " return a+b\n",
        "res = add(20,50)\n",
        "print(res)\n"
      ],
      "metadata": {
        "colab": {
          "base_uri": "https://localhost:8080/"
        },
        "id": "ME6CT0R3LFb5",
        "outputId": "952fdb70-862d-4fc4-8b4d-35120e5b3d68"
      },
      "execution_count": 8,
      "outputs": [
        {
          "output_type": "stream",
          "name": "stdout",
          "text": [
            "70\n"
          ]
        }
      ]
    },
    {
      "cell_type": "code",
      "source": [
        "result = lambda x,y:x+y\n",
        "print(result(10,20))"
      ],
      "metadata": {
        "colab": {
          "base_uri": "https://localhost:8080/"
        },
        "id": "A-WM7OusLIkA",
        "outputId": "547dccca-b86e-4fde-b6fa-c8d18f888617"
      },
      "execution_count": 9,
      "outputs": [
        {
          "output_type": "stream",
          "name": "stdout",
          "text": [
            "30\n"
          ]
        }
      ]
    },
    {
      "cell_type": "code",
      "source": [
        "result = lambda x,y:x*y\n",
        "print(result(10,20))"
      ],
      "metadata": {
        "colab": {
          "base_uri": "https://localhost:8080/"
        },
        "id": "BYS4GL0xLKX0",
        "outputId": "8b22f490-643e-4f7a-a0af-cc0ef8e3bab7"
      },
      "execution_count": 10,
      "outputs": [
        {
          "output_type": "stream",
          "name": "stdout",
          "text": [
            "200\n"
          ]
        }
      ]
    },
    {
      "cell_type": "code",
      "source": [
        "#iterator\n",
        "lst =[1,2,3,4,5,6]\n",
        "iterate_var = iter(lst)\n",
        "print(iterate_var)"
      ],
      "metadata": {
        "colab": {
          "base_uri": "https://localhost:8080/"
        },
        "id": "Q5ptvK0VLL8u",
        "outputId": "55c3e9a4-a1d1-4f86-c487-2ba63b69fa2e"
      },
      "execution_count": 11,
      "outputs": [
        {
          "output_type": "stream",
          "name": "stdout",
          "text": [
            "<list_iterator object at 0x7a6870b846a0>\n"
          ]
        }
      ]
    },
    {
      "cell_type": "code",
      "source": [
        "type(iterate_var)"
      ],
      "metadata": {
        "colab": {
          "base_uri": "https://localhost:8080/"
        },
        "id": "DZTMyqFDLN4B",
        "outputId": "59874f14-29d1-4dd2-e852-39b3ad775d59"
      },
      "execution_count": 12,
      "outputs": [
        {
          "output_type": "execute_result",
          "data": {
            "text/plain": [
              "list_iterator"
            ]
          },
          "metadata": {},
          "execution_count": 12
        }
      ]
    },
    {
      "cell_type": "code",
      "source": [
        "## We can iterate\n",
        "for i in iterate_var:\n",
        "  if i % 2 ==0:\n",
        "    print(i)\n",
        "## By using iter keyword check for numbers is>5 then\n",
        "##add the 1 value and print the number"
      ],
      "metadata": {
        "colab": {
          "base_uri": "https://localhost:8080/"
        },
        "id": "LW6NgV3lLPpL",
        "outputId": "708d65d3-ee4a-4f1b-9cc8-c42e782236ce"
      },
      "execution_count": 13,
      "outputs": [
        {
          "output_type": "stream",
          "name": "stdout",
          "text": [
            "2\n",
            "4\n",
            "6\n"
          ]
        }
      ]
    },
    {
      "cell_type": "code",
      "source": [
        "lst =[6,7,8,9,5]\n",
        "iterate_var = iter(lst)\n",
        "for number in iterate_var:\n",
        "  if number > 5:\n",
        "    number +=1\n",
        "    print(number)\n"
      ],
      "metadata": {
        "colab": {
          "base_uri": "https://localhost:8080/"
        },
        "id": "MgpSeraILRrg",
        "outputId": "2de07c7e-966f-435d-df71-fd9ab4c7a132"
      },
      "execution_count": 14,
      "outputs": [
        {
          "output_type": "stream",
          "name": "stdout",
          "text": [
            "7\n",
            "8\n",
            "9\n",
            "10\n"
          ]
        }
      ]
    },
    {
      "cell_type": "code",
      "source": [
        "def square(i):\n",
        "  for i in range(i):\n",
        "    i=i**2\n",
        "  return i\n",
        "res=square(4)\n",
        "print(res)"
      ],
      "metadata": {
        "colab": {
          "base_uri": "https://localhost:8080/"
        },
        "id": "aTjrwie_LTSD",
        "outputId": "cb40b456-780a-497f-9f76-7adc3f80118b"
      },
      "execution_count": 15,
      "outputs": [
        {
          "output_type": "stream",
          "name": "stdout",
          "text": [
            "9\n"
          ]
        }
      ]
    },
    {
      "cell_type": "code",
      "source": [
        "#Generator\n",
        "def add(i):\n",
        "  for i in range(i):\n",
        "    i=i+2\n",
        "    yield i\n",
        "    #return n\n",
        "add(10)\n",
        "for i in add(10):\n",
        "  print(i)"
      ],
      "metadata": {
        "colab": {
          "base_uri": "https://localhost:8080/"
        },
        "id": "t1pKZzGsLVGN",
        "outputId": "4ab03c5f-7618-47b4-9778-cac1304bdc97"
      },
      "execution_count": 16,
      "outputs": [
        {
          "output_type": "stream",
          "name": "stdout",
          "text": [
            "2\n",
            "3\n",
            "4\n",
            "5\n",
            "6\n",
            "7\n",
            "8\n",
            "9\n",
            "10\n",
            "11\n"
          ]
        }
      ]
    },
    {
      "cell_type": "code",
      "source": [
        "#Generator\n",
        "def add(i):\n",
        "  for i in range(i):\n",
        "    i=i**2\n",
        "    yield i\n",
        "    #return n\n",
        "add(10)\n",
        "for i in add(10):\n",
        "  print(i)"
      ],
      "metadata": {
        "colab": {
          "base_uri": "https://localhost:8080/"
        },
        "id": "_oaJuH0gLXLa",
        "outputId": "c5a3aa1e-b139-42d9-c7bf-86de99c4155d"
      },
      "execution_count": 17,
      "outputs": [
        {
          "output_type": "stream",
          "name": "stdout",
          "text": [
            "0\n",
            "1\n",
            "4\n",
            "9\n",
            "16\n",
            "25\n",
            "36\n",
            "49\n",
            "64\n",
            "81\n"
          ]
        }
      ]
    },
    {
      "cell_type": "code",
      "source": [
        "#Decorators\n",
        "def sample(item):\n",
        "  item = item.upper()\n",
        "def low(item):\n",
        "  item = item+1\n",
        "\n",
        "result = sample\n",
        "\n",
        "print(result(\"hello\"))"
      ],
      "metadata": {
        "colab": {
          "base_uri": "https://localhost:8080/"
        },
        "id": "gNm4urndLZWe",
        "outputId": "ca3514ec-aa03-4714-a607-5e49e16ee735"
      },
      "execution_count": 18,
      "outputs": [
        {
          "output_type": "stream",
          "name": "stdout",
          "text": [
            "None\n"
          ]
        }
      ]
    }
  ]
}