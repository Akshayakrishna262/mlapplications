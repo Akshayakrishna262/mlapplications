{
  "nbformat": 4,
  "nbformat_minor": 0,
  "metadata": {
    "colab": {
      "provenance": [],
      "authorship_tag": "ABX9TyNAsRDIm2ZXeOc8F54FOQnH",
      "include_colab_link": true
    },
    "kernelspec": {
      "name": "python3",
      "display_name": "Python 3"
    },
    "language_info": {
      "name": "python"
    }
  },
  "cells": [
    {
      "cell_type": "markdown",
      "metadata": {
        "id": "view-in-github",
        "colab_type": "text"
      },
      "source": [
        "<a href=\"https://colab.research.google.com/github/Akshayakrishna262/mlapplications/blob/main/Dataframes.ipynb\" target=\"_parent\"><img src=\"https://colab.research.google.com/assets/colab-badge.svg\" alt=\"Open In Colab\"/></a>"
      ]
    },
    {
      "cell_type": "code",
      "source": [
        "import pandas as pd\n",
        "\n",
        "# Creating a DataFrame from the given data\n",
        "data = {\n",
        "    \"Name\": [\"John\", \"Alice\", \"Bob\", \"Diana\"],\n",
        "    \"Age\": [28, 34, 23, 29],\n",
        "    \"Department\": [\"HR\", \"IT\", \"Marketing\", \"Finance\"],\n",
        "    \"Salary\": [45000, 60000, 35000, 50000]\n",
        "}\n",
        "\n",
        "df = pd.DataFrame(data)\n",
        "\n",
        "# Displaying the DataFrame\n",
        "print(df)"
      ],
      "metadata": {
        "id": "VkJcnjQlL1O_"
      },
      "execution_count": null,
      "outputs": []
    },
    {
      "cell_type": "code",
      "source": [
        "import pandas as pd\n",
        "\n",
        "# Creating the DataFrame\n",
        "data = {\n",
        "    \"Name\": [\"John\", \"Alice\", \"Bob\", \"Diana\"],\n",
        "    \"Age\": [28, 34, 23, 29],\n",
        "    \"Department\": [\"HR\", \"IT\", \"Marketing\", \"Finance\"],\n",
        "    \"Salary\": [45000, 60000, 35000, 50000]\n",
        "}\n",
        "\n",
        "df = pd.DataFrame(data)\n",
        "\n",
        "# 1. Display the first 2 rows of the DataFrame\n",
        "print(\"First 2 rows of the DataFrame:\")\n",
        "print(df.head(2))\n",
        "\n",
        "# 2. Add a new column named 'Bonus' where the bonus is 10% of the salary\n",
        "df['Bonus'] = df['Salary'] * 0.10\n",
        "print(\"\\nDataFrame with the 'Bonus' column:\")\n",
        "print(df)\n",
        "\n",
        "# 3. Calculate the average salary of employees in the DataFrame\n",
        "average_salary = df['Salary'].mean()\n",
        "print(f\"\\nAverage salary: {average_salary}\")\n",
        "\n",
        "# 4. Filter and display employees who are older than 25\n",
        "filtered_df = df[df['Age'] > 25]\n",
        "print(\"\\nEmployees who are older than 25:\")\n",
        "print(filtered_df)"
      ],
      "metadata": {
        "id": "yAOPMP8CL4ZU"
      },
      "execution_count": null,
      "outputs": []
    }
  ]
}